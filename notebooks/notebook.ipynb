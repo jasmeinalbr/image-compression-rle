{
 "cells": [
  {
   "cell_type": "markdown",
   "id": "e4d508d1",
   "metadata": {},
   "source": [
    "## Setup Folder & Import Library"
   ]
  },
  {
   "cell_type": "code",
   "execution_count": 9,
   "id": "1fbd9a8e",
   "metadata": {},
   "outputs": [],
   "source": [
    "import os\n",
    "from PIL import Image\n",
    "import numpy as np\n",
    "\n",
    "# Setup folder\n",
    "IMAGE_FOLDER = '../images'\n",
    "OUTPUT_FOLDER = '../compressed_rle'\n",
    "os.makedirs(OUTPUT_FOLDER, exist_ok=True)"
   ]
  },
  {
   "cell_type": "markdown",
   "id": "6e3c2635",
   "metadata": {},
   "source": [
    "## Fungsi RLE (Encode dan Convert ke Byte)"
   ]
  },
  {
   "cell_type": "code",
   "execution_count": 10,
   "id": "1b7617c1",
   "metadata": {},
   "outputs": [],
   "source": [
    "def rle_encode(data):\n",
    "    encoding = []\n",
    "    prev_pixel = data[0]\n",
    "    count = 1\n",
    "\n",
    "    for pixel in data[1:]:\n",
    "        if pixel == prev_pixel:\n",
    "            count += 1\n",
    "        else:\n",
    "            encoding.append((prev_pixel, count))\n",
    "            prev_pixel = pixel\n",
    "            count = 1\n",
    "    encoding.append((prev_pixel, count))\n",
    "    return encoding\n",
    "\n",
    "def rle_to_bytes(rle):\n",
    "    byte_array = bytearray()\n",
    "    for val, count in rle:\n",
    "        while count > 255:\n",
    "            byte_array.append(val)\n",
    "            byte_array.append(255)\n",
    "            count -= 255\n",
    "        byte_array.append(val)\n",
    "        byte_array.append(count)\n",
    "    return byte_array"
   ]
  },
  {
   "cell_type": "markdown",
   "id": "b5fc58e3",
   "metadata": {},
   "source": [
    "## Fungsi Kompresi Gambar"
   ]
  },
  {
   "cell_type": "code",
   "execution_count": 11,
   "id": "60e544b2",
   "metadata": {},
   "outputs": [],
   "source": [
    "def compress_image(image_path, output_path):\n",
    "    img = Image.open(image_path).convert('L')  # Grayscale\n",
    "    data = np.array(img).flatten()\n",
    "    rle = rle_encode(data)\n",
    "    compressed_bytes = rle_to_bytes(rle)\n",
    "    \n",
    "    with open(output_path, 'wb') as f:\n",
    "        f.write(compressed_bytes)\n",
    "\n",
    "    return os.path.getsize(image_path), len(compressed_bytes)"
   ]
  },
  {
   "cell_type": "markdown",
   "id": "691d0dd4",
   "metadata": {},
   "source": [
    "## Proses Kompresi 10 Gambar Pertama dan Menampilkan Hasil"
   ]
  },
  {
   "cell_type": "code",
   "execution_count": 12,
   "id": "c1bfe80f",
   "metadata": {},
   "outputs": [],
   "source": [
    "results = []\n",
    "\n",
    "for filename in os.listdir(IMAGE_FOLDER)[:10]:\n",
    "    if filename.lower().endswith('.jpg') or filename.lower().endswith('.jpeg'):\n",
    "        input_path = os.path.join(IMAGE_FOLDER, filename)\n",
    "        output_path = os.path.join(OUTPUT_FOLDER, filename + '.rle')\n",
    "        \n",
    "        original_size, compressed_size = compress_image(input_path, output_path)\n",
    "        results.append((filename, original_size, compressed_size))"
   ]
  },
  {
   "cell_type": "markdown",
   "id": "1de523e2",
   "metadata": {},
   "source": [
    "## Tampilkan Tabel Hasil Kompresi"
   ]
  },
  {
   "cell_type": "code",
   "execution_count": 13,
   "id": "04184e7a",
   "metadata": {},
   "outputs": [
    {
     "name": "stdout",
     "output_type": "stream",
     "text": [
      "Hasil Kompresi (RLE):\n",
      "Nama File            Ukuran Asli (B)       Ukuran RLE (B)\n",
      "sample_1920x1280_2.jpg          415313              3931662\n",
      "sample_640x426_2.jpg           78142               440416\n",
      "sample_1920x1280_3.jpg          483176              3744806\n",
      "sample_1920x1280_1.jpg          326563              3584056\n",
      "sample_640x426_1.jpg          132451               773698\n",
      "sample_1280x853_1.jpg          287157              1697412\n",
      "sample_1280x853_2.jpg          147458              1396058\n",
      "sample_1280x853_3.jpg          295026              1599118\n",
      "sample_4118 × 2740.jpg          787068              9303872\n",
      "sample_3000x2000.jpg          571624              5579552\n"
     ]
    }
   ],
   "source": [
    "print(\"Hasil Kompresi (RLE):\")\n",
    "print(\"{:<20} {:>15} {:>20}\".format(\"Nama File\", \"Ukuran Asli (B)\", \"Ukuran RLE (B)\"))\n",
    "for fname, orig, comp in results:\n",
    "    print(\"{:<20} {:>15} {:>20}\".format(fname, orig, comp))"
   ]
  }
 ],
 "metadata": {
  "kernelspec": {
   "display_name": "3.11.4",
   "language": "python",
   "name": "python3"
  },
  "language_info": {
   "codemirror_mode": {
    "name": "ipython",
    "version": 3
   },
   "file_extension": ".py",
   "mimetype": "text/x-python",
   "name": "python",
   "nbconvert_exporter": "python",
   "pygments_lexer": "ipython3",
   "version": "3.11.4"
  }
 },
 "nbformat": 4,
 "nbformat_minor": 5
}
